{
 "cells": [
  {
   "cell_type": "code",
   "execution_count": 1,
   "metadata": {},
   "outputs": [],
   "source": [
    "from pathlib import Path\n",
    "import os\n",
    "import numpy as np"
   ]
  },
  {
   "cell_type": "code",
   "execution_count": 2,
   "metadata": {},
   "outputs": [],
   "source": [
    "### Function for analysis output data ###\n",
    "\n",
    "## Import library ##\n",
    "# Module with scientific computing functions (matrix/vector)\n",
    "import numpy as np\n",
    "# Modules with reading MHD/raw format\n",
    "import SimpleITK as sitk\n",
    "# Modules with reading/writing folder/file functions\n",
    "import os\n",
    "\n",
    "## Set the filenames and read data from mhd/raw file (Dose Gate) ## \n",
    "def SetFile(output_folder, input_dose, input_squared, input_uncert):         \n",
    "    f_dose = os.path.join(output_folder, input_dose)\n",
    "    f_squared = os.path.join(output_folder, input_squared)   \n",
    "    f_uncert = os.path.join(output_folder, input_uncert)  \n",
    "    # Dose\n",
    "    dose_gate = sitk.ReadImage(f_dose)\n",
    "    dose = sitk.GetArrayFromImage(dose_gate)\n",
    "    # Squared Dose\n",
    "    squared_gate = sitk.ReadImage(f_squared)\n",
    "    squared = sitk.GetArrayFromImage(squared_gate)\n",
    "    # Uncertainty dose\n",
    "    uncert_gate= sitk.ReadImage(f_uncert)\n",
    "    uncert = sitk.GetArrayFromImage(uncert_gate)\n",
    "    # Image rotations \n",
    "    dose = np.swapaxes(dose,0,2)\n",
    "    dose = np.flip(dose,2)\n",
    "    squared = np.swapaxes(squared,0,2)\n",
    "    squared = np.flip(squared,2)\n",
    "    uncert = np.swapaxes(uncert,0,2)\n",
    "    uncert = np.flip(uncert,2)\n",
    "    return dose, squared, uncert\n",
    "\n",
    "## Dose/Uncertainty Evaluation: Percentage Depth Dose (PDD) ##\n",
    "def dose_z(dose, squared):\n",
    "    dz = 0.0\n",
    "    dz_array = []\n",
    "    # Variance of dose\n",
    "    squared_dz = 0.0\n",
    "    # The relative uncertainty of dose \n",
    "    delta_dz = 0.0 \n",
    "    delta_dz_array = []\n",
    "    for z in range (0,97): # range ( 0, total voxel)\n",
    "        for y in range(47,50): # range ( (total voxel/2)-1.5, (total voxel/2)-1.5 +3) )\n",
    "            for x in range (47,50): # range ( (total voxel/2)-1.5, (total voxel/2)-1.5 +3) )\n",
    "                dz = dz + dose[x,y,z]\n",
    "                squared_dz = squared_dz + squared[x,y,z]\n",
    "                if dz != 0:\n",
    "                    delta_dz = ((np.sqrt(squared_dz))/dz)*100\n",
    "                else:\n",
    "                    delta_dz = 0\n",
    "        dz_array.append(dz)\n",
    "        delta_dz_array.append(delta_dz)\n",
    "        dz = 0.0\n",
    "        squared_dz = 0.0\n",
    "        delta_dz = 0.0      \n",
    "    return dz_array, delta_dz_array\n",
    "\n",
    "## Dose/Uncertainty Evaluation: Off Center Ratio (OCR) ##\n",
    "def dose_y(dose, squared, z_depth):\n",
    "    dy = 0.0\n",
    "    dy_array = []\n",
    "    # Variance of dose\n",
    "    squared_dy = 0.0\n",
    "    # The relative uncertainty of dose \n",
    "    delta_dy = 0.0 \n",
    "    delta_dy_array = []\n",
    "    for y in range (0,97): # range ( 0, total voxel)\n",
    "        for x in range(47,50): # range ( (total voxel/2)-1.5, (total voxel/2)-1.5 +3) )\n",
    "            for z in range (z_depth,z_depth+1):\n",
    "                dy = dy + dose[x,y,z]\n",
    "                squared_dy = squared_dy + squared[x,y,z]\n",
    "                if dy != 0:\n",
    "                    delta_dy = ((np.sqrt(squared_dy))/dy)*100\n",
    "                else:\n",
    "                    delta_dy = 0\n",
    "        dy_array.append(dy)\n",
    "        delta_dy_array.append(delta_dy)\n",
    "        dy = 0.0\n",
    "        squared_dy = 0.0\n",
    "        delta_dy = 0.0      \n",
    "    return dy_array, delta_dy_array\n",
    "\n"
   ]
  },
  {
   "cell_type": "code",
   "execution_count": 3,
   "metadata": {},
   "outputs": [
    {
     "ename": "IndexError",
     "evalue": "index 47 is out of bounds for axis 0 with size 11",
     "output_type": "error",
     "traceback": [
      "\u001b[0;31m---------------------------------------------------------------------------\u001b[0m",
      "\u001b[0;31mIndexError\u001b[0m                                Traceback (most recent call last)",
      "Cell \u001b[0;32mIn[3], line 14\u001b[0m\n\u001b[1;32m      9\u001b[0m dose, squared, uncert \u001b[39m=\u001b[39m SetFile(output_folder, \u001b[39m'\u001b[39m\u001b[39mrun01-Dose.mhd\u001b[39m\u001b[39m'\u001b[39m, \u001b[39m'\u001b[39m\u001b[39mrun01-Dose-Squared.mhd\u001b[39m\u001b[39m'\u001b[39m, \u001b[39m'\u001b[39m\u001b[39mrun01-Dose-Uncertainty.mhd\u001b[39m\u001b[39m'\u001b[39m)\n\u001b[1;32m     11\u001b[0m \u001b[39m#############################\u001b[39;00m\n\u001b[1;32m     12\u001b[0m \u001b[39m#### PDD + uncertainties ####\u001b[39;00m\n\u001b[1;32m     13\u001b[0m \u001b[39m#############################\u001b[39;00m\n\u001b[0;32m---> 14\u001b[0m dz, delta_dz \u001b[39m=\u001b[39m dose_z(dose, squared)\n\u001b[1;32m     16\u001b[0m \u001b[39m# Data folder after analysis\u001b[39;00m\n\u001b[1;32m     17\u001b[0m os\u001b[39m.\u001b[39mmakedirs(\u001b[39m'\u001b[39m\u001b[39m./output/data_analysis\u001b[39m\u001b[39m'\u001b[39m, exist_ok\u001b[39m=\u001b[39m\u001b[39mTrue\u001b[39;00m)\n",
      "Cell \u001b[0;32mIn[2], line 46\u001b[0m, in \u001b[0;36mdose_z\u001b[0;34m(dose, squared)\u001b[0m\n\u001b[1;32m     44\u001b[0m \u001b[39mfor\u001b[39;00m y \u001b[39min\u001b[39;00m \u001b[39mrange\u001b[39m(\u001b[39m47\u001b[39m,\u001b[39m50\u001b[39m): \u001b[39m# range ( (total voxel/2)-1.5, (total voxel/2)-1.5 +3) )\u001b[39;00m\n\u001b[1;32m     45\u001b[0m     \u001b[39mfor\u001b[39;00m x \u001b[39min\u001b[39;00m \u001b[39mrange\u001b[39m (\u001b[39m47\u001b[39m,\u001b[39m50\u001b[39m): \u001b[39m# range ( (total voxel/2)-1.5, (total voxel/2)-1.5 +3) )\u001b[39;00m\n\u001b[0;32m---> 46\u001b[0m         dz \u001b[39m=\u001b[39m dz \u001b[39m+\u001b[39m dose[x,y,z]\n\u001b[1;32m     47\u001b[0m         squared_dz \u001b[39m=\u001b[39m squared_dz \u001b[39m+\u001b[39m squared[x,y,z]\n\u001b[1;32m     48\u001b[0m         \u001b[39mif\u001b[39;00m dz \u001b[39m!=\u001b[39m \u001b[39m0\u001b[39m:\n",
      "\u001b[0;31mIndexError\u001b[0m: index 47 is out of bounds for axis 0 with size 11"
     ]
    }
   ],
   "source": [
    "#############################\n",
    "###### Read output data #####\n",
    "#############################\n",
    "\n",
    "# Change by your own output folder \n",
    "output_folder = Path('./output')\n",
    "\n",
    "# Read mhd/raw file: dose, dose squared  and dose uncertainty \n",
    "dose, squared, uncert = SetFile(output_folder, 'run01-Dose.mhd', 'run01-Dose-Squared.mhd', 'run01-Dose-Uncertainty.mhd')\n",
    "\n",
    "#############################\n",
    "#### PDD + uncertainties ####\n",
    "#############################\n",
    "dz, delta_dz = dose_z(dose, squared)\n",
    "\n",
    "# Data folder after analysis\n",
    "os.makedirs('./output/data_analysis', exist_ok=True)\n",
    "dir_path = Path ('./output/data_analysis')\n",
    "\n",
    "# Depth values: stat=5, stop=485, num=97\n",
    "depth = np.linspace(5,485,97)\n",
    "\n",
    "# Save dose_z file: in txt\n",
    "name_dz = 'dose_z.txt'\n",
    "folder_dz = os.path.join(dir_path, name_dz)\n",
    "header_dz = 'z(mm) dose_z(Gy) delta_dose_z'\n",
    "dz_col = np.column_stack([depth, dz, delta_dz])\n",
    "fmt_col = ['%i','%.2e','%.2f']\n",
    "#np.savetxt(folder_dz, dz_col, fmt=fmt_col, header=header_dz)\n",
    "print('Save file', name_dz)\n",
    "\n",
    "#############################\n",
    "#### OCR + uncertainties ####\n",
    "#############################\n",
    "z_depth = 5 # Voxel number of depth; \"5\" mean 30 mm\n",
    "dy, delta_dy = dose_y(dose, squared, z_depth)\n",
    "\n",
    "# Position values: stat=-240, stop=240, num=97\n",
    "position = np.linspace(-240,240,97)\n",
    "\n",
    "# Save dose_y file: in txt\n",
    "name_dy = 'dose_y.txt'\n",
    "folder_dy = os.path.join(dir_path, name_dy)\n",
    "header_dy = 'y(mm) dose_y(Gy) delta_dose_y'\n",
    "dy_col = np.column_stack([position, dy, delta_dy])\n",
    "fmt_col = ['%i','%.2e','%.2f']\n",
    "#np.savetxt(folder_dy, dy_col, fmt=fmt_col, header=header_dy)\n",
    "print('Save file', name_dy)\n",
    "\n",
    "# test visual --------------------------------------------------------------------------\n",
    "print(type(dz))\n",
    "print(\"len of depth\", len(depth))"
   ]
  },
  {
   "cell_type": "code",
   "execution_count": null,
   "metadata": {},
   "outputs": [
    {
     "name": "stdout",
     "output_type": "stream",
     "text": [
      "3\n"
     ]
    }
   ],
   "source": [
    "print(dose.ndim)"
   ]
  },
  {
   "cell_type": "code",
   "execution_count": 14,
   "metadata": {},
   "outputs": [
    {
     "data": {
      "image/png": "[encoded data removed]",
      "text/plain": [
       "<Figure size 640x480 with 2 Axes>"
      ]
     },
     "metadata": {},
     "output_type": "display_data"
    }
   ],
   "source": [
    "import matplotlib.pyplot as plt\n",
    "\n",
    "# Assuming you have loaded the image using SimpleITK\n",
    "f_dose = os.path.join(output_folder, 'run01-Dose.mhd')\n",
    "image = sitk.ReadImage(f_dose)\n",
    "\n",
    "# Convert the image to a NumPy array for display\n",
    "array = sitk.GetArrayFromImage(image)\n",
    "\n",
    "# Select a specific slice to display\n",
    "slice_index = 10 # Adjust the slice index as needed\n",
    "\n",
    "# Display the selected slice using Matplotlib\n",
    "plt.imshow(array[:, :, slice_index], cmap='gray')\n",
    "plt.xlabel('x')\n",
    "plt.ylabel('y')\n",
    "plt.title('Slice {} along the z-axis'.format(slice_index))\n",
    "plt.colorbar()  # Optionally, show a colorbar for intensity scale\n",
    "plt.show()"
   ]
  },
  {
   "cell_type": "code",
   "execution_count": null,
   "metadata": {},
   "outputs": [],
   "source": []
  }
 ],
 "metadata": {
  "kernelspec": {
   "display_name": "base",
   "language": "python",
   "name": "python3"
  },
  "language_info": {
   "codemirror_mode": {
    "name": "ipython",
    "version": 3
   },
   "file_extension": ".py",
   "mimetype": "text/x-python",
   "name": "python",
   "nbconvert_exporter": "python",
   "pygments_lexer": "ipython3",
   "version": "3.10.9"
  },
  "orig_nbformat": 4
 },
 "nbformat": 4,
 "nbformat_minor": 2
}
